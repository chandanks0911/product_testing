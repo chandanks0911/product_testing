{
 "cells": [
  {
   "cell_type": "markdown",
   "metadata": {},
   "source": [
    "adrs = 'H.NO-30, TARAPH, BD PUR, JAGANNATH, PRASadrs, GANJAM, ODISHA, 123456'\n",
    "adrs2 = 'H.NO-30, SORODO, BALIPadrsARA, GANJAM, ODISHA, 761117'\n",
    "\n",
    "Find out Cs1 and Cs3 strengths for these above addresses."
   ]
  },
  {
   "cell_type": "code",
   "execution_count": 3,
   "metadata": {},
   "outputs": [
    {
     "name": "stdout",
     "output_type": "stream",
     "text": [
      "{'A12', 'O30', '35T', 'NAT', 'PUR', '456', 'AGA', 'ATH', 'URJ', 'PRA', 'APH', 'ANN', 'ISH', 'BDP', '234', 'NJA', 'ASA', 'JAG', 'NNA', 'RAS', 'RJA', 'HNO', 'NO3', 'HBD', '5TA', 'ARA', 'GAN', 'ODI', '303', 'HPR', 'TAR', 'DPU', 'DGA', '123', 'RAP', '035', 'AMO', 'SAD', 'JAM', 'PHB', 'SHA', '345', 'DIS', 'MOD', 'ADG', 'HA1', 'THP', 'ANJ'}\n",
      "456\n",
      "48 49\n"
     ]
    }
   ],
   "source": [
    "adrs = 'H.NO-30,35 TARAPH, BD PUR, JAGANNATH, PRASAD, GANJAM, ODISHA, 123456'\n",
    "\n",
    "token_set = set(); cln_sp_chrs = ''; cnt = 0\n",
    "\n",
    "for i in adrs:\n",
    "    if 'A'<=i<='Z' or 'a'<=i<='z' or '0'<=i<='9':\n",
    "        cln_sp_chrs += i\n",
    "# print(cln_sp_chrs)\n",
    "\n",
    "for i in range(len(cln_sp_chrs)-2):\n",
    "    token = cln_sp_chrs[i:i+3]\n",
    "    token_set |= {token}\n",
    "    cnt += 1\n",
    "print(token_set)\n",
    "print(token)\n",
    "print(len(token_set), cnt)"
   ]
  },
  {
   "cell_type": "code",
   "execution_count": 4,
   "metadata": {},
   "outputs": [
    {
     "name": "stdout",
     "output_type": "stream",
     "text": [
      "['30', '35', '123456']\n"
     ]
    }
   ],
   "source": [
    "ad = 'H.NO-30, 35 TARAPH, BD PUR, JAGANNATH, PRASAD, GANJAM, ODISHA, 123456'\n",
    "dgt = ''\n",
    "list_dgts = []\n",
    "for i in ad+' ':\n",
    "    if '0'<=i<='9':\n",
    "        dgt += i\n",
    "    elif dgt:\n",
    "        list_dgts.append(dgt)\n",
    "        dgt = ''\n",
    "print(list_dgts)\n"
   ]
  },
  {
   "cell_type": "code",
   "execution_count": 5,
   "metadata": {},
   "outputs": [
    {
     "data": {
      "text/plain": [
       "(55, 61)"
      ]
     },
     "execution_count": 5,
     "metadata": {},
     "output_type": "execute_result"
    }
   ],
   "source": [
    "def no_extraction(adrs):\n",
    "    dgt, list_dgts = '', []\n",
    "    for i in adrs+' ':\n",
    "        if '0'<=i<='9':\n",
    "            dgt += i\n",
    "        elif dgt:\n",
    "            list_dgts.append(dgt)\n",
    "            dgt = ''\n",
    "    return list_dgts\n",
    "\n",
    "def tokenising(adrs):\n",
    "    token_set = set(); cln_sp_chrs = ''; cnt = 0\n",
    "\n",
    "    for i in adrs:\n",
    "        if 'A'<=i<='Z' or 'a'<=i<='z' or '0'<=i<='9':\n",
    "            cln_sp_chrs += i\n",
    "\n",
    "    for i in range(len(cln_sp_chrs)-2):\n",
    "        token = cln_sp_chrs[i:i+3]\n",
    "        token_set |= {token}\n",
    "    \n",
    "    return token_set\n",
    "\n",
    "def hno_strength_cal(adrs1, adrs2):\n",
    "    n1 = no_extraction(adrs1)\n",
    "    n2 = no_extraction(adrs2)\n",
    "    pers = []\n",
    "\n",
    "    for i in range(len(n1)):\n",
    "        for j in range(len(n2)):\n",
    "            if n1[i] == n2[j]:\n",
    "                if i<=j:\n",
    "                    pers.append(100 - 10*i - 10*(j-i))\n",
    "                else:\n",
    "                    pers.append(100 - 10*i)\n",
    "    return max(pers)\n",
    "        \n",
    "\n",
    "def combined_strength_cal(adrs1, adrs2):\n",
    "    t1, t2 = list(tokenising(adrs1)), list(tokenising(adrs2))\n",
    "    match_token_cnt = 0\n",
    "    cs1, cs3 = 0, 0\n",
    "\n",
    "    for i in t1:\n",
    "        if i in t2:\n",
    "            match_token_cnt += 1\n",
    "    # print(match_token_cnt)\n",
    "    # print(len(t1), len(t2))\n",
    "            \n",
    "    strength1 = match_token_cnt/max(len(t1), len(t2))*100\n",
    "    strength3 = match_token_cnt/min(len(t1), len(t2))*100\n",
    "\n",
    "    hno = hno_strength_cal(adrs1, adrs2)\n",
    "\n",
    "    cs1 = round(hno/100*30 + strength1/100*70)\n",
    "    cs3 = round(hno/100*30 + strength3/100*70)\n",
    "    # print(strength1, strength3)\n",
    "    return cs1, cs3\n",
    "\n",
    "\n",
    "adrs1 = 'H.NO-30, TARAPH, BD PUR, JAGANNATH, PRASadrs, GANJAM, ODISHA, 123456'\n",
    "adrs2 = 'H.NO-30, SORODO, BALIPadrsARA, GANJAM, ODISHA, 761117'\n",
    "\n",
    "combined_strength_cal(adrs1, adrs2)\n"
   ]
  },
  {
   "cell_type": "code",
   "execution_count": 6,
   "metadata": {},
   "outputs": [
    {
     "name": "stdout",
     "output_type": "stream",
     "text": [
      "17\n",
      "48 39\n",
      "35 44\n"
     ]
    }
   ],
   "source": [
    "t1, t2 = list(tokenising(adrs1)), list(tokenising(adrs2))\n",
    "t1, t2 = list(t1), list(t2)\n",
    "match_token_cnt = 0\n",
    "\n",
    "for i in t1:\n",
    "    if i in t2:\n",
    "        match_token_cnt += 1\n",
    "print(match_token_cnt)\n",
    "print(len(t1), len(t2))\n",
    "\n",
    "strength_01 = round(match_token_cnt/max(len(t1), len(t2))*100)\n",
    "strength_02 = round(match_token_cnt/min(len(t1), len(t2))*100)\n",
    "\n",
    "print(strength_01, strength_02)"
   ]
  },
  {
   "cell_type": "code",
   "execution_count": 1,
   "metadata": {},
   "outputs": [
    {
     "name": "stdout",
     "output_type": "stream",
     "text": [
      "90 per\n"
     ]
    }
   ],
   "source": [
    "# n1 = no_extraction(adrs1)\n",
    "# n2 = no_extraction(adrs2)\n",
    "\n",
    "n1 = [10, 20, 30]\n",
    "n2 = [20, 100, 10]\n",
    "pers = []\n",
    "\n",
    "for i in range(len(n1)):\n",
    "    for j in range(len(n2)):\n",
    "        if n1[i] == n2[j]:\n",
    "            if i<=j:\n",
    "                pers.append(100 - 10*i - 10*(j-i))\n",
    "            else:\n",
    "                pers.append(100 - 10*i)\n",
    "\n",
    "print(max(pers), 'per')"
   ]
  }
 ],
 "metadata": {
  "kernelspec": {
   "display_name": "Python 3",
   "language": "python",
   "name": "python3"
  },
  "language_info": {
   "codemirror_mode": {
    "name": "ipython",
    "version": 3
   },
   "file_extension": ".py",
   "mimetype": "text/x-python",
   "name": "python",
   "nbconvert_exporter": "python",
   "pygments_lexer": "ipython3",
   "version": "3.12.1"
  }
 },
 "nbformat": 4,
 "nbformat_minor": 2
}
